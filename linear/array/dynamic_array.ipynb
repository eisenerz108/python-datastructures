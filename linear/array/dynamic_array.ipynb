{
  "nbformat": 4,
  "nbformat_minor": 0,
  "metadata": {
    "colab": {
      "provenance": [],
      "authorship_tag": "ABX9TyNuxRvHhnXLUIXTFpV2HzP1",
      "include_colab_link": true
    },
    "kernelspec": {
      "name": "python3",
      "display_name": "Python 3"
    },
    "language_info": {
      "name": "python"
    }
  },
  "cells": [
    {
      "cell_type": "markdown",
      "metadata": {
        "id": "view-in-github",
        "colab_type": "text"
      },
      "source": [
        "<a href=\"https://colab.research.google.com/github/eisenerz108/python-datastructures/blob/main/linear/array/dynamic_array.ipynb\" target=\"_parent\"><img src=\"https://colab.research.google.com/assets/colab-badge.svg\" alt=\"Open In Colab\"/></a>"
      ]
    },
    {
      "cell_type": "code",
      "source": [
        "import ctypes\n",
        "# Foreign function linrary for Python, provides c compatible data types."
      ],
      "metadata": {
        "id": "8eDDY4N_DEw_"
      },
      "execution_count": 47,
      "outputs": []
    },
    {
      "cell_type": "code",
      "execution_count": 53,
      "metadata": {
        "id": "p9Eeeiob4JUM"
      },
      "outputs": [],
      "source": [
        "class MyList :\n",
        "  def __init__(self) :\n",
        "    self.size = 1\n",
        "    self.n = 0\n",
        "    # create a C type array with size = self.size\n",
        "    self.A = self.__make_array(self.size)\n",
        "\n",
        "  def __len__(self):\n",
        "    return self.n\n",
        "\n",
        "  def __str__(self):\n",
        "    result = ''\n",
        "    for i in range(self.n):\n",
        "      result = result + str(self.A[i]) + ','\n",
        "    return '[' + result[:-1] + ']'\n",
        "\n",
        "  def __getitem__(self, index):\n",
        "    if 0<= index < self.n:\n",
        "      return self.A[index]\n",
        "    else:\n",
        "      return 'IndexError - Index out of range'\n",
        "\n",
        "  def append(self, item):\n",
        "    if self.n == self.size :\n",
        "      #resize\n",
        "      self.__resize(self.size * 2)\n",
        "\n",
        "    #append\n",
        "    self.A[self.n] = item\n",
        "    self.n = self.n + 1\n",
        "\n",
        "  def pop(self):\n",
        "    if self.n == 0 :\n",
        "      return 'Empty List'\n",
        "    print(self.A[self.n-1])\n",
        "    self.n = self.n - 1\n",
        "\n",
        "  def clear(self):\n",
        "    self.n = 0\n",
        "    self.size = 1\n",
        "\n",
        "  def find(self, item):\n",
        "    for i in range(self.n) :\n",
        "      if(self.A[i] == item) :\n",
        "        return i\n",
        "      else:\n",
        "        return \"Item Not found\"\n",
        "\n",
        "  def insert(self, pos, item):\n",
        "    if self.n == self.size:\n",
        "      self.__resize(self.size*2)\n",
        "    for i in (self.n, pos, -1) :\n",
        "      self.A[i] = self.A[i-1]\n",
        "\n",
        "\n",
        "  def __resize(self, new_capacity):\n",
        "    # create a new array with new capacity\n",
        "    B = self.__make_array(new_capacity)\n",
        "    self.size = new_capacity\n",
        "\n",
        "    # Copy the content from A to B\n",
        "    for i in range(self.n):\n",
        "      B[i] = self.A[i]\n",
        "    # reassign A\n",
        "    self.A = B\n",
        "\n",
        "  def __make_array(self, capacity):\n",
        "    # creates a C type array(static, referential) with size capacity\n",
        "    return (capacity*ctypes.py_object)()"
      ]
    },
    {
      "cell_type": "code",
      "source": [
        "L = MyList()"
      ],
      "metadata": {
        "id": "s6BXZnedEb5m"
      },
      "execution_count": 54,
      "outputs": []
    },
    {
      "cell_type": "code",
      "source": [
        "L.append('Hello')\n",
        "L.append(3.4)\n",
        "L.append(True)\n",
        "L.append(100)"
      ],
      "metadata": {
        "id": "rP-iDdWbEfVx"
      },
      "execution_count": 55,
      "outputs": []
    },
    {
      "cell_type": "code",
      "source": [
        "L.find(3.444)"
      ],
      "metadata": {
        "colab": {
          "base_uri": "https://localhost:8080/",
          "height": 35
        },
        "id": "gilZ_nL1EmXE",
        "outputId": "ee30081b-7efd-417c-8b54-d09d1bbebbe3"
      },
      "execution_count": 56,
      "outputs": [
        {
          "output_type": "execute_result",
          "data": {
            "text/plain": [
              "'Item Not found'"
            ],
            "application/vnd.google.colaboratory.intrinsic+json": {
              "type": "string"
            }
          },
          "metadata": {},
          "execution_count": 56
        }
      ]
    },
    {
      "cell_type": "code",
      "source": [],
      "metadata": {
        "id": "Uz7vOM6BFe54"
      },
      "execution_count": null,
      "outputs": []
    }
  ]
}