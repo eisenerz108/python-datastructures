{
  "nbformat": 4,
  "nbformat_minor": 0,
  "metadata": {
    "colab": {
      "provenance": [],
      "authorship_tag": "ABX9TyNROdBsBiohMx0RRpBayL1I",
      "include_colab_link": true
    },
    "kernelspec": {
      "name": "python3",
      "display_name": "Python 3"
    },
    "language_info": {
      "name": "python"
    }
  },
  "cells": [
    {
      "cell_type": "markdown",
      "metadata": {
        "id": "view-in-github",
        "colab_type": "text"
      },
      "source": [
        "<a href=\"https://colab.research.google.com/github/eisenerz108/python-datastructures/blob/main/linear/array/dynamic_array.ipynb\" target=\"_parent\"><img src=\"https://colab.research.google.com/assets/colab-badge.svg\" alt=\"Open In Colab\"/></a>"
      ]
    },
    {
      "cell_type": "code",
      "source": [
        "import ctypes\n",
        "# Foreign function linrary for Python, provides c compatible data types."
      ],
      "metadata": {
        "id": "8eDDY4N_DEw_"
      },
      "execution_count": 4,
      "outputs": []
    },
    {
      "cell_type": "code",
      "execution_count": 13,
      "metadata": {
        "id": "p9Eeeiob4JUM"
      },
      "outputs": [],
      "source": [
        "class MyList :\n",
        "  def __init__(self) :\n",
        "    self.size = 1\n",
        "    self.n = 0\n",
        "    # create a C type array with size = self.size\n",
        "    self.A = self.__make_array(self.size)\n",
        "\n",
        "  def __make_array(self, capacity):\n",
        "    # creates a C type array(static, referential) with size capacity\n",
        "    return (capacity*ctypes.py_object)\n",
        "\n",
        "  def __len__(self):\n",
        "    return self.n"
      ]
    },
    {
      "cell_type": "code",
      "source": [
        "L = MyList()"
      ],
      "metadata": {
        "id": "s6BXZnedEb5m"
      },
      "execution_count": 14,
      "outputs": []
    },
    {
      "cell_type": "code",
      "source": [
        "len(L)"
      ],
      "metadata": {
        "colab": {
          "base_uri": "https://localhost:8080/"
        },
        "id": "rP-iDdWbEfVx",
        "outputId": "96b53c6e-07b2-4b69-de40-89d00a44908e"
      },
      "execution_count": 15,
      "outputs": [
        {
          "output_type": "execute_result",
          "data": {
            "text/plain": [
              "0"
            ]
          },
          "metadata": {},
          "execution_count": 15
        }
      ]
    },
    {
      "cell_type": "code",
      "source": [],
      "metadata": {
        "id": "uCkbJpNUE2zN"
      },
      "execution_count": null,
      "outputs": []
    }
  ]
}