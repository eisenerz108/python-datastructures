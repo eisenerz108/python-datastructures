{
  "nbformat": 4,
  "nbformat_minor": 0,
  "metadata": {
    "colab": {
      "provenance": [],
      "authorship_tag": "ABX9TyMHYjpqmZrLanroqYBU+Elg",
      "include_colab_link": true
    },
    "kernelspec": {
      "name": "python3",
      "display_name": "Python 3"
    },
    "language_info": {
      "name": "python"
    }
  },
  "cells": [
    {
      "cell_type": "markdown",
      "metadata": {
        "id": "view-in-github",
        "colab_type": "text"
      },
      "source": [
        "<a href=\"https://colab.research.google.com/github/eisenerz108/python-datastructures/blob/main/linear/array/dynamic_array.ipynb\" target=\"_parent\"><img src=\"https://colab.research.google.com/assets/colab-badge.svg\" alt=\"Open In Colab\"/></a>"
      ]
    },
    {
      "cell_type": "code",
      "source": [
        "import ctypes\n",
        "# Foreign function linrary for Python, provides c compatible data types."
      ],
      "metadata": {
        "id": "8eDDY4N_DEw_"
      },
      "execution_count": 4,
      "outputs": []
    },
    {
      "cell_type": "code",
      "execution_count": 9,
      "metadata": {
        "id": "p9Eeeiob4JUM"
      },
      "outputs": [],
      "source": [
        "class MyList :\n",
        "  def __init__(self) :\n",
        "    self.size = 1\n",
        "    self.n = 0\n",
        "    # create a C type array with size = self.size\n",
        "    self.A = self.__make_array(self.size)\n",
        "\n",
        "  def __make_array(self, capacity):\n",
        "    # creates a C type array(static, referential) with size capacity\n",
        "    return (capacity*ctypes.py_object)"
      ]
    },
    {
      "cell_type": "code",
      "source": [
        "L = MyList()"
      ],
      "metadata": {
        "id": "s6BXZnedEb5m"
      },
      "execution_count": 12,
      "outputs": []
    },
    {
      "cell_type": "code",
      "source": [],
      "metadata": {
        "colab": {
          "base_uri": "https://localhost:8080/",
          "height": 103
        },
        "id": "rP-iDdWbEfVx",
        "outputId": "d7f807d1-ca6b-4a71-984d-41b5d2ac85aa"
      },
      "execution_count": 11,
      "outputs": [
        {
          "output_type": "execute_result",
          "data": {
            "text/plain": [
              "__main__.MyList"
            ],
            "text/html": [
              "<div style=\"max-width:800px; border: 1px solid var(--colab-border-color);\"><style>\n",
              "      pre.function-repr-contents {\n",
              "        overflow-x: auto;\n",
              "        padding: 8px 12px;\n",
              "        max-height: 500px;\n",
              "      }\n",
              "\n",
              "      pre.function-repr-contents.function-repr-contents-collapsed {\n",
              "        cursor: pointer;\n",
              "        max-height: 100px;\n",
              "      }\n",
              "    </style>\n",
              "    <pre style=\"white-space: initial; background:\n",
              "         var(--colab-secondary-surface-color); padding: 8px 12px;\n",
              "         border-bottom: 1px solid var(--colab-border-color);\"><b>MyList</b><br/>def __init__()</pre><pre class=\"function-repr-contents function-repr-contents-collapsed\" style=\"\"><a class=\"filepath\" style=\"display:none\" href=\"#\"></a>&lt;no docstring&gt;</pre></div>"
            ]
          },
          "metadata": {},
          "execution_count": 11
        }
      ]
    },
    {
      "cell_type": "code",
      "source": [],
      "metadata": {
        "id": "uCkbJpNUE2zN"
      },
      "execution_count": null,
      "outputs": []
    }
  ]
}